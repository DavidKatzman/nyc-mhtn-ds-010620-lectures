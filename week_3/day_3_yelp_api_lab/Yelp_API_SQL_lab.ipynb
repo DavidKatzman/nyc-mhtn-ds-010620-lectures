{
 "cells": [
  {
   "cell_type": "markdown",
   "metadata": {},
   "source": [
    "# Yelp API - Lab\n",
    "\n",
    "\n",
    "\n",
    "## Introduction \n",
    "\n",
    "Now that we've seen how the Yelp API works, it's time to put those API and SQL skills to work in order to do some basic business analysis! Taking things a step further, you'll also independently explore how to perform pagination in order to retrieve a full results set from the Yelp API!\n",
    "\n",
    "## Objectives\n",
    "\n",
    "You will be able to:\n",
    "* Create a DB on AWS to store information from Yelp about businesses\n",
    "* Create HTTP requests to get data from Yelp API\n",
    "* Parse HTTP responses and insert the information into your DB\n",
    "* Perform pagination to retrieve troves of data!\n",
    "* Write SQL queries to answer questions about your data "
   ]
  },
  {
   "cell_type": "markdown",
   "metadata": {},
   "source": [
    "## Problem Introduction\n",
    "\n",
    "For this lab you will analyze the yelp data for a group of businesses to learn more about an industry. You will choose a type of business (Italian Restuarants, Nail Salons, Crossfit gyms) and a location to analyze. Then you will get data from the Yelp API, store that data in a SQL Database on AWS, and write queries to answer questions about the data. \n",
    "\n",
    "\n",
    "### Process:\n",
    "\n",
    "1. Read through the SQL questions and the API documentation to determine which pieces of information you need to pull from the Yelp API.\n",
    "\n",
    "2. Create a DB schema with 2 tables. One for the businesses and one for the reviews.\n",
    "\n",
    "3. Create code to:\n",
    "  - Perform a search of businesses using pagination\n",
    "  - Parse the API response for specific data points\n",
    "  - Insert the data into your AWS DB\n",
    "\n",
    "4. Use the functions above in a loop that will paginate over the results to retrieve all of the results. \n",
    "\n",
    "5. Create functions to:\n",
    "  - Retrieve the reviews data of one business\n",
    "  - Parse the reviews response for specific review data\n",
    "  - Insert the review data into the DB\n",
    "\n",
    "6. Using SQL, query all of the business IDs. Using the 3 Python functions you've created, run your business IDs through a loop to get the reviews for each business and insert them into your DB.\n",
    "\n",
    "7. Write SQL queries to answer the following questions about your data.\n",
    "\n",
    "\n",
    "Bonus Steps:  \n",
    "- Place your helper functions in a package so that your final notebook only has the major steps listed.\n",
    "- Rewrite your business search functions to be able take an argument for the type of business you are searching for.\n",
    "- Add another group of businesses to your database.\n"
   ]
  },
  {
   "cell_type": "markdown",
   "metadata": {},
   "source": [
    " \n",
    "## SQL Questions:\n",
    "\n",
    "- Which are the 5 most reviewed businesses?\n",
    "- What is the highest rating recieved in your data set and how many businesses have that rating?\n",
    "- What percentage of businesses have a rating greater than or  4.5?\n",
    "- What percentage of businesses have a rating less than 3?\n",
    "- What is the average rating of restaurants that have a price label of one dollar sign? Two dollar signs? Three dollar signs? \n",
    "- Return the text of the reviews for the most reviewed restaurant. \n",
    "- Return the name of the business with the most recent review. \n",
    "- Find the highest rated business and return text of the most recent review. If multiple business have the same rating, select the restaurant with the most reviews. \n",
    "- Find the lowest rated business and return text of the most recent review.  If multiple business have the same rating, select the restaurant with the least reviews. \n"
   ]
  },
  {
   "cell_type": "markdown",
   "metadata": {},
   "source": [
    "## Part 1 - Understanding your data and question\n",
    "\n",
    "Lok at the question and determine what data you will need to store in your database in order to answer the questions. Start to thin about your DB schema. What tables will you want to create and what columns will you ahve for those tables. \n",
    "\n",
    "Look at the API documentation, and determine what fields of the API response you will match up with the columns you want in your DB tables. \n",
    "\n",
    "\n",
    "https://www.yelp.com/developers/documentation/v3/get_started"
   ]
  },
  {
   "cell_type": "markdown",
   "metadata": {},
   "source": [
    "## Part 2 - Set up the DB\n",
    "\n",
    "Now that you are familiar with the data, create your SQL queries to create the DB and the appropriate tables. "
   ]
  },
  {
   "cell_type": "markdown",
   "metadata": {},
   "source": [
    "### Foriegn Keys\n",
    "\n",
    "For this project you will have two tables that you need to link using a foreign key. Below is some information about how to create a foriegn key.  \n",
    "\n",
    "http://www.mysqltutorial.org/mysql-foreign-key/\n",
    "\n"
   ]
  },
  {
   "cell_type": "markdown",
   "metadata": {},
   "source": [
    "### Using DB:\n",
    "    \n",
    "For this lab, you can either store the data on one DB or put in on both of the partners DBs. If you decide to put it on one DB, you want to make sure both partners have access to it.  To do this you want to add a user to your DB.  \n",
    "\n",
    "[how to add a new user](https://howchoo.com/g/mtm3zdq2nzv/how-to-add-a-mysql-user-and-grant-privileges)"
   ]
  },
  {
   "cell_type": "code",
   "execution_count": 48,
   "metadata": {},
   "outputs": [],
   "source": [
    "import mysql.connector \n",
    "from mysql.connector import errorcode"
   ]
  },
  {
   "cell_type": "code",
   "execution_count": 49,
   "metadata": {},
   "outputs": [],
   "source": [
    "cnx = mysql.connector.connect(\n",
    "    host = \"database-2.ckhgdgqfsqpw.us-east-2.rds.amazonaws.com\",\n",
    "    user = \"admin\",\n",
    "    passwd = \"12345678\"\n",
    ")"
   ]
  },
  {
   "cell_type": "code",
   "execution_count": 50,
   "metadata": {},
   "outputs": [],
   "source": [
    "cursor = cnx.cursor()"
   ]
  },
  {
   "cell_type": "code",
   "execution_count": 51,
   "metadata": {},
   "outputs": [],
   "source": [
    "# Create a table for the Businesses\n",
    "db_name = 'businesses'"
   ]
  },
  {
   "cell_type": "code",
   "execution_count": 52,
   "metadata": {},
   "outputs": [],
   "source": [
    "def create_database(cursor, database):\n",
    "    try:\n",
    "        cursor.execute(\n",
    "            \"CREATE DATABASE {} DEFAULT CHARACTER SET 'utf8'\".format(database))\n",
    "    except mysql.connector.Error as err:\n",
    "        print(\"Failed creating database: {}\".format(err))\n",
    "        exit(1)"
   ]
  },
  {
   "cell_type": "code",
   "execution_count": 53,
   "metadata": {},
   "outputs": [],
   "source": [
    "# check to see if the database already \n",
    "try:\n",
    "    cursor.execute(\"USE {}\".format(db_name))\n",
    "\n",
    "#if the previous line fails because there isn't a db by that name run this line\n",
    "\n",
    "except mysql.connector.Error as err:\n",
    "    print(\"Database {} does not exist.\".format(db_name))\n",
    "    if err.errno == errorcode.ER_BAD_DB_ERROR:\n",
    "        create_database(cursor, db_name)\n",
    "        print(\"Database {} created successfully.\".format(db_name))\n",
    "        cnx.database = db_name\n",
    "    else:\n",
    "        print(err)\n",
    "        exit(1)"
   ]
  },
  {
   "cell_type": "code",
   "execution_count": 63,
   "metadata": {},
   "outputs": [],
   "source": [
    "# Create a table for the reviews\n",
    "DB_NAME = 'businesses'\n",
    "\n",
    "TABLES = {}\n",
    "TABLES['businesses'] = (\"\"\"\n",
    "CREATE TABLE businesses\n",
    "    (\n",
    "    business_id varchar(50),\n",
    "    name varchar(50),\n",
    "    rating FLOAT,\n",
    "    price FLOAT,\n",
    "    review_count FLOAT,\n",
    "    PRIMARY KEY (business_id)\n",
    "    )\n",
    "    ENGINE=InnoDB\n",
    "\"\"\")\n",
    "TABLES['reviews'] = (\"\"\"\n",
    "CREATE TABLE reviews\n",
    "    (\n",
    "    business_id varchar(50),\n",
    "    id varchar(50),\n",
    "    review_text varchar(255),\n",
    "    review_date DATE,\n",
    "    PRIMARY KEY (id, business_id),\n",
    "    CONSTRAINT fk_businesses FOREIGN KEY (business_id)\n",
    "        REFERENCES businesses (business_id) ON DELETE CASCADE\n",
    "    )\n",
    "    ENGINE=InnoDB\n",
    "\"\"\")"
   ]
  },
  {
   "cell_type": "code",
   "execution_count": 64,
   "metadata": {},
   "outputs": [],
   "source": [
    "cnx = mysql.connector.connect(\n",
    "    host = \"database-2.ckhgdgqfsqpw.us-east-2.rds.amazonaws.com\",\n",
    "    user = \"admin\",\n",
    "    passwd = \"12345678\",\n",
    "    database = DB_NAME\n",
    ")\n",
    "cursor = cnx.cursor()"
   ]
  },
  {
   "cell_type": "code",
   "execution_count": 65,
   "metadata": {},
   "outputs": [
    {
     "name": "stdout",
     "output_type": "stream",
     "text": [
      "Creating table businesses: OK\n",
      "Creating table reviews: OK\n"
     ]
    }
   ],
   "source": [
    "for table_name in TABLES:\n",
    "    table_description = TABLES[table_name]\n",
    "    try:\n",
    "        print(\"Creating table {}: \".format(table_name), end='')\n",
    "        cursor.execute(table_description)\n",
    "    except mysql.connector.Error as err:\n",
    "        if err.errno == errorcode.ER_TABLE_EXISTS_ERROR:\n",
    "            print(\"already exists.\")\n",
    "        else:\n",
    "            print(err.msg)\n",
    "    else:\n",
    "        print(\"OK\")\n",
    "\n",
    "cursor.close()\n",
    "cnx.close()"
   ]
  },
  {
   "cell_type": "markdown",
   "metadata": {},
   "source": [
    "## Part 3 - Create ETL pipeline for the business data from the API\n",
    "\n",
    "Now that you know what data you need from the API, you want to write code that will execute a api call, parse those results and then insert the results into the DB.  \n",
    "\n",
    "It is helpful to break this up into three different functions (*api call, parse results, and insert into DB*) and then you can write a function/script that pull the other three functions together. \n",
    "\n",
    "Let's first do this for the Business endpoint."
   ]
  },
  {
   "cell_type": "code",
   "execution_count": 54,
   "metadata": {},
   "outputs": [],
   "source": [
    "import requests\n",
    "import json"
   ]
  },
  {
   "cell_type": "code",
   "execution_count": 55,
   "metadata": {},
   "outputs": [],
   "source": [
    "# Write a function to make a call to the yelp API\n",
    "\n",
    "## Connect to DB server on AWS\n",
    "def pull_data(term, location, offset, SEARCH_LIMIT):\n",
    "\n",
    "    url = 'https://api.yelp.com/v3/businesses/search'\n",
    "    client_id = 'oYBTmIjjT0bPql5t-f-NZQ'\n",
    "    api_key = 'UJvvMieWIlpnNQ3K4G0PbQGZ32QQfXL55-AYF-Z_Lmkefepo7_10l5JT7VrlW9jnpfwcxMzH2ejh3sa2MWHGvb0d-cwRBFDu2aH1KbyiX3Nyqw3NmncpQwM6xvYpXnYx'\n",
    "    headers = {\n",
    "            'Authorization': 'Bearer {}'.format(api_key),\n",
    "        }\n",
    "\n",
    "    url_params = {\n",
    "                    'term': term.replace(' ', '+'),\n",
    "                    'location': location.replace(' ', '+'),\n",
    "                    'limit': SEARCH_LIMIT,\n",
    "                    'offset': offset,\n",
    "                    'sort_by': 'review_count'\n",
    "                }\n",
    "\n",
    "    return requests.get(url, headers = headers, params = url_params) "
   ]
  },
  {
   "cell_type": "code",
   "execution_count": 56,
   "metadata": {},
   "outputs": [],
   "source": [
    "import pandas as pd\n",
    "import numpy as np"
   ]
  },
  {
   "cell_type": "code",
   "execution_count": 57,
   "metadata": {},
   "outputs": [],
   "source": [
    "def parse_API_response(response):\n",
    "    yelp_dict = response.json()\n",
    "    tuple_list = []\n",
    "    for business in yelp_dict['businesses']:\n",
    "        p = 0\n",
    "        if 'price' in business.keys() and len(business['price']) > 0:\n",
    "            p = len(business['price'])\n",
    "        else:\n",
    "            p = None\n",
    "        tuple_list.append((business['id'], business['name'], business['rating'], p, business['review_count']))\n",
    "    return tuple_list"
   ]
  },
  {
   "cell_type": "code",
   "execution_count": 58,
   "metadata": {},
   "outputs": [],
   "source": [
    "from datetime import date, datetime, timedelta"
   ]
  },
  {
   "cell_type": "code",
   "execution_count": 59,
   "metadata": {},
   "outputs": [],
   "source": [
    "# Write a function to take your parsed data and insert it into the DB\n",
    "def add_businesses(data):\n",
    "        add_business = (\"INSERT INTO businesses \"\n",
    "                   \"(business_id, name, rating, price, review_count) \"\n",
    "                   \"VALUES (%s, %s, %s, %s, %s)\")\n",
    "\n",
    "        cursor.executemany(add_business, data)\n",
    "        cnx.commit()"
   ]
  },
  {
   "cell_type": "code",
   "execution_count": 66,
   "metadata": {},
   "outputs": [],
   "source": [
    "# Write a script that combines the three functions above into a single process.\n",
    "cnx = mysql.connector.connect(\n",
    "            host = \"database-2.ckhgdgqfsqpw.us-east-2.rds.amazonaws.com\",\n",
    "            user = \"admin\",\n",
    "            passwd = \"12345678\",\n",
    "            database = 'businesses'\n",
    "        )\n",
    "cursor = cnx.cursor()\n"
   ]
  },
  {
   "cell_type": "code",
   "execution_count": 67,
   "metadata": {},
   "outputs": [],
   "source": [
    "def Insert_Business_Data(term, location, SEARCH_LIMIT):\n",
    "    offset = 0\n",
    "    new_data = []\n",
    "    while offset < 1000:\n",
    "        response = pull_data(term, location, offset = offset, SEARCH_LIMIT = SEARCH_LIMIT)\n",
    "        data = parse_API_response(response)\n",
    "        new_data.append(data)\n",
    "        offset+=SEARCH_LIMIT\n",
    "    newer_data = []\n",
    "    for data in new_data:\n",
    "        for d in data:\n",
    "            newer_data.append(d)\n",
    "    add_businesses(newer_data)"
   ]
  },
  {
   "cell_type": "code",
   "execution_count": 68,
   "metadata": {},
   "outputs": [],
   "source": [
    "Insert_Business_Data(term = 'Sporting Goods', location = 'NYC', SEARCH_LIMIT = 50)"
   ]
  },
  {
   "cell_type": "markdown",
   "metadata": {},
   "source": [
    "## Part 4 -  Create ETL pipeline for the restaurant review data from the API\n",
    "\n",
    "You've done this for the Businesses, now you need to do this for reviews. You will follow the same process, but your functions will be specific to reviews."
   ]
  },
  {
   "cell_type": "code",
   "execution_count": 69,
   "metadata": {},
   "outputs": [],
   "source": [
    "cnx = mysql.connector.connect(\n",
    "            host = \"database-2.ckhgdgqfsqpw.us-east-2.rds.amazonaws.com\",\n",
    "            user = \"admin\",\n",
    "            passwd = \"12345678\",\n",
    "            database = 'businesses'\n",
    "        )\n",
    "cursor = cnx.cursor(buffered=True)"
   ]
  },
  {
   "cell_type": "code",
   "execution_count": 70,
   "metadata": {},
   "outputs": [],
   "source": [
    "# write a SQL query to pull back all of the business ids \n",
    "# you will need these ids to pull back the reviews for each restaurant\n",
    "\n",
    "cursor.execute(\"SELECT * FROM businesses.businesses;\")\n",
    "restaurant_data_tuple_list = cursor.fetchall()"
   ]
  },
  {
   "cell_type": "code",
   "execution_count": 71,
   "metadata": {},
   "outputs": [],
   "source": [
    "restaurant_id_list = []\n",
    "for restaurant in restaurant_data_tuple_list:\n",
    "    restaurant_id_list.append(restaurant[0])"
   ]
  },
  {
   "cell_type": "code",
   "execution_count": 72,
   "metadata": {},
   "outputs": [],
   "source": [
    "# write a function that takes a business id \n",
    "# and makes a call to the API for reivews\n",
    "def pull_data_reviews(restaurant_id):\n",
    "    url = 'https://api.yelp.com/v3/businesses/' + restaurant_id + '/reviews'\n",
    "    client_id = 'oYBTmIjjT0bPql5t-f-NZQ'\n",
    "    api_key = 'UJvvMieWIlpnNQ3K4G0PbQGZ32QQfXL55-AYF-Z_Lmkefepo7_10l5JT7VrlW9jnpfwcxMzH2ejh3sa2MWHGvb0d-cwRBFDu2aH1KbyiX3Nyqw3NmncpQwM6xvYpXnYx'\n",
    "    headers = {\n",
    "            'Authorization': 'Bearer {}'.format(api_key),\n",
    "        }\n",
    "    return requests.get(url, headers = headers) "
   ]
  },
  {
   "cell_type": "code",
   "execution_count": 73,
   "metadata": {},
   "outputs": [],
   "source": [
    "response = pull_data_reviews(restaurant_id_list[0])"
   ]
  },
  {
   "cell_type": "code",
   "execution_count": 74,
   "metadata": {},
   "outputs": [],
   "source": [
    "yelp_dict = response.json()"
   ]
  },
  {
   "cell_type": "code",
   "execution_count": 75,
   "metadata": {},
   "outputs": [
    {
     "data": {
      "text/plain": [
       "{'reviews': [{'id': 'DlA38hwhs7hjz7-07bFvsw',\n",
       "   'url': 'https://www.yelp.com/biz/suit-club-new-york-2?adjust_creative=oYBTmIjjT0bPql5t-f-NZQ&hrid=DlA38hwhs7hjz7-07bFvsw&utm_campaign=yelp_api_v3&utm_medium=api_v3_business_reviews&utm_source=oYBTmIjjT0bPql5t-f-NZQ',\n",
       "   'text': 'Needed a quick measurement made. Super friendly and helpful. Great and convenient location!',\n",
       "   'rating': 5,\n",
       "   'time_created': '2019-12-10 13:39:36',\n",
       "   'user': {'id': 'WFWRKOqn6McrGmkAeOTkpw',\n",
       "    'profile_url': 'https://www.yelp.com/user_details?userid=WFWRKOqn6McrGmkAeOTkpw',\n",
       "    'image_url': 'https://s3-media2.fl.yelpcdn.com/photo/B1Hc87unSPoZpYVx_le1CQ/o.jpg',\n",
       "    'name': 'Ace L.'}},\n",
       "  {'id': '4u0qkhmZx0iOrABddShzsw',\n",
       "   'url': 'https://www.yelp.com/biz/suit-club-new-york-2?adjust_creative=oYBTmIjjT0bPql5t-f-NZQ&hrid=4u0qkhmZx0iOrABddShzsw&utm_campaign=yelp_api_v3&utm_medium=api_v3_business_reviews&utm_source=oYBTmIjjT0bPql5t-f-NZQ',\n",
       "   'text': 'Got a shirt package out in jersey at a hotel satellite location. \\n\\nThey measured me and I even brought a custom shirt from another company as a starting...',\n",
       "   'rating': 2,\n",
       "   'time_created': '2019-08-27 07:05:10',\n",
       "   'user': {'id': 'VPTgNqs8ekmOO-d-U2fS5Q',\n",
       "    'profile_url': 'https://www.yelp.com/user_details?userid=VPTgNqs8ekmOO-d-U2fS5Q',\n",
       "    'image_url': 'https://s3-media1.fl.yelpcdn.com/photo/F09n13IXus7YxVsTH7IXmA/o.jpg',\n",
       "    'name': 'Jared G.'}},\n",
       "  {'id': '0LOcGeiFCb8Jgopq90gP8A',\n",
       "   'url': 'https://www.yelp.com/biz/suit-club-new-york-2?adjust_creative=oYBTmIjjT0bPql5t-f-NZQ&hrid=0LOcGeiFCb8Jgopq90gP8A&utm_campaign=yelp_api_v3&utm_medium=api_v3_business_reviews&utm_source=oYBTmIjjT0bPql5t-f-NZQ',\n",
       "   'text': 'This is the place to make your next custom suit, sport jacket or shirt! \\n\\nThey have an extensive selection of high quality suit and shirt materials and some...',\n",
       "   'rating': 5,\n",
       "   'time_created': '2019-04-04 16:54:24',\n",
       "   'user': {'id': 'SvXdcq1Nhn_nWgOEmsDvHw',\n",
       "    'profile_url': 'https://www.yelp.com/user_details?userid=SvXdcq1Nhn_nWgOEmsDvHw',\n",
       "    'image_url': 'https://s3-media4.fl.yelpcdn.com/photo/_J13f0oAyy0_YEmU92Ngbw/o.jpg',\n",
       "    'name': 'Al I.'}}],\n",
       " 'total': 20,\n",
       " 'possible_languages': ['en']}"
      ]
     },
     "execution_count": 75,
     "metadata": {},
     "output_type": "execute_result"
    }
   ],
   "source": [
    "yelp_dict"
   ]
  },
  {
   "cell_type": "code",
   "execution_count": 76,
   "metadata": {},
   "outputs": [],
   "source": [
    "# Write a function to parse out the relevant information from the reviews\n",
    "def parse_API_response_reviews(response, restaurant_id):\n",
    "    yelp_dict = response.json()\n",
    "    tuple_list = []\n",
    "    for reviews in yelp_dict['reviews']:\n",
    "        tuple_list.append((restaurant_id, reviews['id'], reviews['text'], reviews['time_created']))\n",
    "    return tuple_list"
   ]
  },
  {
   "cell_type": "code",
   "execution_count": 77,
   "metadata": {},
   "outputs": [],
   "source": [
    "# write a function to insert the parsed data into the reviews table\n",
    "def add_reviews(data):\n",
    "    add_reviews = (\"INSERT INTO reviews \"\n",
    "                       \"(business_id, id, review_text, review_date) \"\n",
    "                   \"VALUES (%s, %s, %s, %s)\")\n",
    "\n",
    "    cursor.executemany(add_reviews, data)\n",
    "    cnx.commit()"
   ]
  },
  {
   "cell_type": "code",
   "execution_count": 78,
   "metadata": {},
   "outputs": [],
   "source": [
    "cnx = mysql.connector.connect(\n",
    "            host = \"database-2.ckhgdgqfsqpw.us-east-2.rds.amazonaws.com\",\n",
    "            user = \"admin\",\n",
    "            passwd = \"12345678\",\n",
    "            database = 'businesses'\n",
    "        )\n",
    "cursor = cnx.cursor(buffered=True)"
   ]
  },
  {
   "cell_type": "code",
   "execution_count": 79,
   "metadata": {},
   "outputs": [],
   "source": [
    "# combine the functions above into a single script  \n",
    "def Insert_Review_Data():\n",
    "    restaurant_id_list = []\n",
    "    for restaurant in restaurant_data_tuple_list:\n",
    "        restaurant_id_list.append(restaurant[0])\n",
    "    new_data = []\n",
    "    for restaurant in restaurant_id_list:\n",
    "        response = pull_data_reviews(restaurant)\n",
    "        data = parse_API_response_reviews(response, restaurant)\n",
    "        new_data.append(data)\n",
    "    newer_data = []\n",
    "    for data in new_data:\n",
    "        for d in data:\n",
    "            newer_data.append(d)\n",
    "    add_reviews(newer_data)"
   ]
  },
  {
   "cell_type": "code",
   "execution_count": 80,
   "metadata": {},
   "outputs": [],
   "source": [
    "Insert_Review_Data()"
   ]
  },
  {
   "cell_type": "markdown",
   "metadata": {},
   "source": [
    "## Part 5 -  Write SQL queries that will answer the questions posed. \n",
    "\n",
    "Now that your data is in the DB, you can answer the questions. Write SQL querires that will answer the questions. **Do not use Pandas in this lab**"
   ]
  },
  {
   "cell_type": "markdown",
   "metadata": {},
   "source": [
    "Which are the 5 most reviewed businesses?\n",
    "\n",
    "What is the highest rating recieved in your data set and how many businesses have that rating?\n",
    "\n",
    "What percentage of businesses have a rating greater than or 4.5?\n",
    "\n",
    "What percentage of businesses have a rating less than 3?\n",
    "\n",
    "What is the average rating of restaurants that have a price label of one dollar sign? Two dollar signs? Three dollar signs?\n",
    "\n",
    "Return the text of the reviews for the most reviewed restaurant.\n",
    "\n",
    "Return the name of the business with the most recent review.\n",
    "\n",
    "Find the highest rated business and return text of the most recent review. If multiple business have the same rating, \n",
    "select the restaurant with the most reviews.\n",
    "\n",
    "Find the lowest rated business and return text of the most recent review. If multiple business have the same rating, select the restaurant with the least reviews."
   ]
  },
  {
   "cell_type": "code",
   "execution_count": 136,
   "metadata": {},
   "outputs": [],
   "source": [
    "# create connection\n",
    "cnx = mysql.connector.connect(\n",
    "            host = \"database-2.ckhgdgqfsqpw.us-east-2.rds.amazonaws.com\",\n",
    "            user = \"admin\",\n",
    "            passwd = \"12345678\",\n",
    "            database = 'businesses'\n",
    "        )\n",
    "cursor = cnx.cursor(buffered=True)"
   ]
  },
  {
   "cell_type": "code",
   "execution_count": 152,
   "metadata": {},
   "outputs": [
    {
     "data": {
      "text/html": [
       "<div>\n",
       "<style scoped>\n",
       "    .dataframe tbody tr th:only-of-type {\n",
       "        vertical-align: middle;\n",
       "    }\n",
       "\n",
       "    .dataframe tbody tr th {\n",
       "        vertical-align: top;\n",
       "    }\n",
       "\n",
       "    .dataframe thead th {\n",
       "        text-align: right;\n",
       "    }\n",
       "</style>\n",
       "<table border=\"1\" class=\"dataframe\">\n",
       "  <thead>\n",
       "    <tr style=\"text-align: right;\">\n",
       "      <th></th>\n",
       "      <th>Name</th>\n",
       "      <th>Number Of Reviews</th>\n",
       "    </tr>\n",
       "  </thead>\n",
       "  <tbody>\n",
       "    <tr>\n",
       "      <td>0</td>\n",
       "      <td>Chelsea Market</td>\n",
       "      <td>2198.0</td>\n",
       "    </tr>\n",
       "    <tr>\n",
       "      <td>1</td>\n",
       "      <td>B &amp; H Photo &amp; Electronics</td>\n",
       "      <td>1788.0</td>\n",
       "    </tr>\n",
       "    <tr>\n",
       "      <td>2</td>\n",
       "      <td>Macy's</td>\n",
       "      <td>1622.0</td>\n",
       "    </tr>\n",
       "    <tr>\n",
       "      <td>3</td>\n",
       "      <td>Strand Bookstore</td>\n",
       "      <td>1528.0</td>\n",
       "    </tr>\n",
       "    <tr>\n",
       "      <td>4</td>\n",
       "      <td>Yankee Stadium</td>\n",
       "      <td>1363.0</td>\n",
       "    </tr>\n",
       "  </tbody>\n",
       "</table>\n",
       "</div>"
      ],
      "text/plain": [
       "                        Name  Number Of Reviews\n",
       "0             Chelsea Market             2198.0\n",
       "1  B & H Photo & Electronics             1788.0\n",
       "2                     Macy's             1622.0\n",
       "3           Strand Bookstore             1528.0\n",
       "4             Yankee Stadium             1363.0"
      ]
     },
     "execution_count": 152,
     "metadata": {},
     "output_type": "execute_result"
    }
   ],
   "source": [
    "# execute SQL queries\n",
    "cursor.execute(\"\"\"\n",
    "SELECT name AS Name, review_count AS \"Number Of Reviews\"\n",
    "FROM businesses.businesses\n",
    "ORDER BY review_count DESC\n",
    "LIMIT 5\n",
    ";\n",
    "\"\"\")\n",
    "my_data = pd.DataFrame(cursor.fetchall())\n",
    "my_data.columns = [x[0] for x in cursor.description]\n",
    "my_data"
   ]
  },
  {
   "cell_type": "markdown",
   "metadata": {},
   "source": [
    "What is the highest rating recieved in your data set and how many businesses have that rating?"
   ]
  },
  {
   "cell_type": "code",
   "execution_count": 153,
   "metadata": {},
   "outputs": [
    {
     "data": {
      "text/html": [
       "<div>\n",
       "<style scoped>\n",
       "    .dataframe tbody tr th:only-of-type {\n",
       "        vertical-align: middle;\n",
       "    }\n",
       "\n",
       "    .dataframe tbody tr th {\n",
       "        vertical-align: top;\n",
       "    }\n",
       "\n",
       "    .dataframe thead th {\n",
       "        text-align: right;\n",
       "    }\n",
       "</style>\n",
       "<table border=\"1\" class=\"dataframe\">\n",
       "  <thead>\n",
       "    <tr style=\"text-align: right;\">\n",
       "      <th></th>\n",
       "      <th>Number Of Businesses</th>\n",
       "      <th>Rating</th>\n",
       "    </tr>\n",
       "  </thead>\n",
       "  <tbody>\n",
       "    <tr>\n",
       "      <td>0</td>\n",
       "      <td>115</td>\n",
       "      <td>5.0</td>\n",
       "    </tr>\n",
       "  </tbody>\n",
       "</table>\n",
       "</div>"
      ],
      "text/plain": [
       "   Number Of Businesses  Rating\n",
       "0                   115     5.0"
      ]
     },
     "execution_count": 153,
     "metadata": {},
     "output_type": "execute_result"
    }
   ],
   "source": [
    "cursor.execute(\"\"\"\n",
    "SELECT COUNT(*) AS 'Number Of Businesses', rating AS Rating\n",
    "FROM businesses.businesses\n",
    "GROUP BY rating\n",
    "ORDER BY rating DESC\n",
    "LIMIT 1\n",
    "\"\"\")\n",
    "my_data = pd.DataFrame(cursor.fetchall())\n",
    "my_data.columns = [x[0] for x in cursor.description]\n",
    "my_data"
   ]
  },
  {
   "cell_type": "markdown",
   "metadata": {},
   "source": [
    "What percentage of businesses have a rating greater than or 4.5?"
   ]
  },
  {
   "cell_type": "code",
   "execution_count": 154,
   "metadata": {},
   "outputs": [
    {
     "data": {
      "text/html": [
       "<div>\n",
       "<style scoped>\n",
       "    .dataframe tbody tr th:only-of-type {\n",
       "        vertical-align: middle;\n",
       "    }\n",
       "\n",
       "    .dataframe tbody tr th {\n",
       "        vertical-align: top;\n",
       "    }\n",
       "\n",
       "    .dataframe thead th {\n",
       "        text-align: right;\n",
       "    }\n",
       "</style>\n",
       "<table border=\"1\" class=\"dataframe\">\n",
       "  <thead>\n",
       "    <tr style=\"text-align: right;\">\n",
       "      <th></th>\n",
       "      <th>Percentage Of Businesses With Rating &gt;= 4.5</th>\n",
       "    </tr>\n",
       "  </thead>\n",
       "  <tbody>\n",
       "    <tr>\n",
       "      <td>0</td>\n",
       "      <td>0.2900</td>\n",
       "    </tr>\n",
       "  </tbody>\n",
       "</table>\n",
       "</div>"
      ],
      "text/plain": [
       "  Percentage Of Businesses With Rating >= 4.5\n",
       "0                                      0.2900"
      ]
     },
     "execution_count": 154,
     "metadata": {},
     "output_type": "execute_result"
    }
   ],
   "source": [
    "cursor.execute(\"\"\"\n",
    "SELECT\n",
    "(SELECT COUNT(*)\n",
    "FROM businesses.businesses\n",
    "WHERE rating >= 4.5)\n",
    "/\n",
    "(SELECT COUNT(*)\n",
    "FROM businesses.businesses) AS 'Percentage Of Businesses With Rating >= 4.5'\n",
    "\"\"\")\n",
    "my_data = pd.DataFrame(cursor.fetchall())\n",
    "my_data.columns = [x[0] for x in cursor.description]\n",
    "my_data"
   ]
  },
  {
   "cell_type": "markdown",
   "metadata": {},
   "source": [
    "What percentage of businesses have a rating less than 3?"
   ]
  },
  {
   "cell_type": "code",
   "execution_count": 155,
   "metadata": {
    "scrolled": true
   },
   "outputs": [
    {
     "data": {
      "text/html": [
       "<div>\n",
       "<style scoped>\n",
       "    .dataframe tbody tr th:only-of-type {\n",
       "        vertical-align: middle;\n",
       "    }\n",
       "\n",
       "    .dataframe tbody tr th {\n",
       "        vertical-align: top;\n",
       "    }\n",
       "\n",
       "    .dataframe thead th {\n",
       "        text-align: right;\n",
       "    }\n",
       "</style>\n",
       "<table border=\"1\" class=\"dataframe\">\n",
       "  <thead>\n",
       "    <tr style=\"text-align: right;\">\n",
       "      <th></th>\n",
       "      <th>Percentage Of Businesses With Rating &lt;3</th>\n",
       "    </tr>\n",
       "  </thead>\n",
       "  <tbody>\n",
       "    <tr>\n",
       "      <td>0</td>\n",
       "      <td>0.1500</td>\n",
       "    </tr>\n",
       "  </tbody>\n",
       "</table>\n",
       "</div>"
      ],
      "text/plain": [
       "  Percentage Of Businesses With Rating <3\n",
       "0                                  0.1500"
      ]
     },
     "execution_count": 155,
     "metadata": {},
     "output_type": "execute_result"
    }
   ],
   "source": [
    "cursor.execute(\"\"\"\n",
    "SELECT\n",
    "(SELECT COUNT(*)\n",
    "FROM businesses.businesses\n",
    "WHERE rating < 3)\n",
    "/\n",
    "(SELECT COUNT(*)\n",
    "FROM businesses.businesses) AS 'Percentage Of Businesses With Rating <3'\n",
    "\"\"\")\n",
    "my_data = pd.DataFrame(cursor.fetchall())\n",
    "my_data.columns = [x[0] for x in cursor.description]\n",
    "my_data"
   ]
  },
  {
   "cell_type": "markdown",
   "metadata": {},
   "source": [
    "What is the average rating of restaurants that have a price label of one dollar sign? Two dollar signs? Three dollar signs?"
   ]
  },
  {
   "cell_type": "code",
   "execution_count": 156,
   "metadata": {},
   "outputs": [
    {
     "data": {
      "text/html": [
       "<div>\n",
       "<style scoped>\n",
       "    .dataframe tbody tr th:only-of-type {\n",
       "        vertical-align: middle;\n",
       "    }\n",
       "\n",
       "    .dataframe tbody tr th {\n",
       "        vertical-align: top;\n",
       "    }\n",
       "\n",
       "    .dataframe thead th {\n",
       "        text-align: right;\n",
       "    }\n",
       "</style>\n",
       "<table border=\"1\" class=\"dataframe\">\n",
       "  <thead>\n",
       "    <tr style=\"text-align: right;\">\n",
       "      <th></th>\n",
       "      <th>Average Rating</th>\n",
       "      <th>Price</th>\n",
       "    </tr>\n",
       "  </thead>\n",
       "  <tbody>\n",
       "    <tr>\n",
       "      <td>0</td>\n",
       "      <td>3.643725</td>\n",
       "      <td>2.0</td>\n",
       "    </tr>\n",
       "    <tr>\n",
       "      <td>1</td>\n",
       "      <td>3.570312</td>\n",
       "      <td>3.0</td>\n",
       "    </tr>\n",
       "    <tr>\n",
       "      <td>2</td>\n",
       "      <td>3.481481</td>\n",
       "      <td>4.0</td>\n",
       "    </tr>\n",
       "    <tr>\n",
       "      <td>3</td>\n",
       "      <td>3.909326</td>\n",
       "      <td>NaN</td>\n",
       "    </tr>\n",
       "    <tr>\n",
       "      <td>4</td>\n",
       "      <td>3.753731</td>\n",
       "      <td>1.0</td>\n",
       "    </tr>\n",
       "  </tbody>\n",
       "</table>\n",
       "</div>"
      ],
      "text/plain": [
       "   Average Rating  Price\n",
       "0        3.643725    2.0\n",
       "1        3.570312    3.0\n",
       "2        3.481481    4.0\n",
       "3        3.909326    NaN\n",
       "4        3.753731    1.0"
      ]
     },
     "execution_count": 156,
     "metadata": {},
     "output_type": "execute_result"
    }
   ],
   "source": [
    "cursor.execute(\"\"\"\n",
    "SELECT AVG(rating) AS 'Average Rating', price AS 'Price'\n",
    "FROM businesses.businesses\n",
    "GROUP BY price \n",
    "\"\"\")\n",
    "my_data = pd.DataFrame(cursor.fetchall())\n",
    "my_data.columns = [x[0] for x in cursor.description]\n",
    "my_data"
   ]
  },
  {
   "cell_type": "markdown",
   "metadata": {},
   "source": [
    "Return the text of the reviews for the most reviewed restaurant"
   ]
  },
  {
   "cell_type": "code",
   "execution_count": 164,
   "metadata": {
    "scrolled": true
   },
   "outputs": [
    {
     "data": {
      "text/html": [
       "<div>\n",
       "<style scoped>\n",
       "    .dataframe tbody tr th:only-of-type {\n",
       "        vertical-align: middle;\n",
       "    }\n",
       "\n",
       "    .dataframe tbody tr th {\n",
       "        vertical-align: top;\n",
       "    }\n",
       "\n",
       "    .dataframe thead th {\n",
       "        text-align: right;\n",
       "    }\n",
       "</style>\n",
       "<table border=\"1\" class=\"dataframe\">\n",
       "  <thead>\n",
       "    <tr style=\"text-align: right;\">\n",
       "      <th></th>\n",
       "      <th>Name</th>\n",
       "      <th>Number Of Reviews</th>\n",
       "      <th>Review Text</th>\n",
       "    </tr>\n",
       "  </thead>\n",
       "  <tbody>\n",
       "    <tr>\n",
       "      <td>0</td>\n",
       "      <td>Chelsea Market</td>\n",
       "      <td>2198.0</td>\n",
       "      <td>Love Chelsea Market!\\n\\nI've been here a few times and love it! There are so many eateries, shops and things to see. You won't leave hungry or without...</td>\n",
       "    </tr>\n",
       "    <tr>\n",
       "      <td>1</td>\n",
       "      <td>Chelsea Market</td>\n",
       "      <td>2198.0</td>\n",
       "      <td>Whenever we come to New York we love visiting Chelsea Market.\\n\\nIt has a wonderfully eclectic choice of eateries and stores and if you visit at Christmas or...</td>\n",
       "    </tr>\n",
       "    <tr>\n",
       "      <td>2</td>\n",
       "      <td>Chelsea Market</td>\n",
       "      <td>2198.0</td>\n",
       "      <td>Chelsea Market in New York is probably one of the largest and most famous and reviewed markets I've seen, and while I wasn't majorly impressed from my visit...</td>\n",
       "    </tr>\n",
       "  </tbody>\n",
       "</table>\n",
       "</div>"
      ],
      "text/plain": [
       "             Name  Number Of Reviews  \\\n",
       "0  Chelsea Market  2198.0              \n",
       "1  Chelsea Market  2198.0              \n",
       "2  Chelsea Market  2198.0              \n",
       "\n",
       "                                                                                                                                                        Review Text  \n",
       "0  Love Chelsea Market!\\n\\nI've been here a few times and love it! There are so many eateries, shops and things to see. You won't leave hungry or without...         \n",
       "1  Whenever we come to New York we love visiting Chelsea Market.\\n\\nIt has a wonderfully eclectic choice of eateries and stores and if you visit at Christmas or...  \n",
       "2  Chelsea Market in New York is probably one of the largest and most famous and reviewed markets I've seen, and while I wasn't majorly impressed from my visit...   "
      ]
     },
     "execution_count": 164,
     "metadata": {},
     "output_type": "execute_result"
    }
   ],
   "source": [
    "cursor.execute(\"\"\"\n",
    "SELECT b.name AS 'Name', b.review_count AS 'Number Of Reviews', r.review_text AS 'Review Text'\n",
    "FROM businesses.businesses b\n",
    "JOIN businesses.reviews r\n",
    "ON b.business_id = r.business_id\n",
    "WHERE b.review_count = (SELECT review_count\n",
    "                         FROM businesses.businesses\n",
    "                         ORDER BY review_count DESC\n",
    "                         LIMIT 1)\n",
    ";\n",
    "\"\"\")\n",
    "my_data = pd.DataFrame(cursor.fetchall())\n",
    "pd.set_option('display.max_colwidth', -1)\n",
    "my_data.columns = [x[0] for x in cursor.description]\n",
    "my_data"
   ]
  },
  {
   "cell_type": "markdown",
   "metadata": {},
   "source": [
    "Return the name of the business with the most recent review."
   ]
  },
  {
   "cell_type": "code",
   "execution_count": 163,
   "metadata": {},
   "outputs": [
    {
     "data": {
      "text/html": [
       "<div>\n",
       "<style scoped>\n",
       "    .dataframe tbody tr th:only-of-type {\n",
       "        vertical-align: middle;\n",
       "    }\n",
       "\n",
       "    .dataframe tbody tr th {\n",
       "        vertical-align: top;\n",
       "    }\n",
       "\n",
       "    .dataframe thead th {\n",
       "        text-align: right;\n",
       "    }\n",
       "</style>\n",
       "<table border=\"1\" class=\"dataframe\">\n",
       "  <thead>\n",
       "    <tr style=\"text-align: right;\">\n",
       "      <th></th>\n",
       "      <th>Name</th>\n",
       "      <th>Review Date</th>\n",
       "      <th>Review Text</th>\n",
       "    </tr>\n",
       "  </thead>\n",
       "  <tbody>\n",
       "    <tr>\n",
       "      <td>0</td>\n",
       "      <td>Target</td>\n",
       "      <td>2020-01-24</td>\n",
       "      <td>Always busy but the cashiers are always fast so it makes up for the business, they always have what I want in stock. The prices are a little high but that's...</td>\n",
       "    </tr>\n",
       "  </tbody>\n",
       "</table>\n",
       "</div>"
      ],
      "text/plain": [
       "     Name Review Date  \\\n",
       "0  Target  2020-01-24   \n",
       "\n",
       "                                                                                                                                                       Review Text  \n",
       "0  Always busy but the cashiers are always fast so it makes up for the business, they always have what I want in stock. The prices are a little high but that's...  "
      ]
     },
     "execution_count": 163,
     "metadata": {},
     "output_type": "execute_result"
    }
   ],
   "source": [
    "cursor.execute(\"\"\"\n",
    "SELECT b.name AS 'Name', r.review_date AS 'Review Date', r.review_text AS 'Review Text'\n",
    "FROM businesses.businesses b\n",
    "JOIN businesses.reviews r\n",
    "ON b.business_id = r.business_id\n",
    "ORDER BY review_date DESC\n",
    "LIMIT 1\n",
    ";\n",
    "\"\"\")\n",
    "my_data = pd.DataFrame(cursor.fetchall())\n",
    "pd.set_option('display.max_colwidth', -1)\n",
    "my_data.columns = [x[0] for x in cursor.description]\n",
    "my_data"
   ]
  },
  {
   "cell_type": "markdown",
   "metadata": {},
   "source": [
    "Find the highest rated business and return text of the most recent review. If multiple business have the same rating, select the restaurant with the most reviews."
   ]
  },
  {
   "cell_type": "code",
   "execution_count": 162,
   "metadata": {
    "scrolled": true
   },
   "outputs": [
    {
     "data": {
      "text/html": [
       "<div>\n",
       "<style scoped>\n",
       "    .dataframe tbody tr th:only-of-type {\n",
       "        vertical-align: middle;\n",
       "    }\n",
       "\n",
       "    .dataframe tbody tr th {\n",
       "        vertical-align: top;\n",
       "    }\n",
       "\n",
       "    .dataframe thead th {\n",
       "        text-align: right;\n",
       "    }\n",
       "</style>\n",
       "<table border=\"1\" class=\"dataframe\">\n",
       "  <thead>\n",
       "    <tr style=\"text-align: right;\">\n",
       "      <th></th>\n",
       "      <th>Name</th>\n",
       "      <th>Review Date</th>\n",
       "      <th>Review Text</th>\n",
       "      <th>Review Count</th>\n",
       "      <th>Rating</th>\n",
       "    </tr>\n",
       "  </thead>\n",
       "  <tbody>\n",
       "    <tr>\n",
       "      <td>0</td>\n",
       "      <td>Beyond Bespoke Alterations</td>\n",
       "      <td>2020-01-18</td>\n",
       "      <td>I came here last year to get a jumpsuit hemmed and I was beyond impressed by the result! The tailor made the length just perfect, so that I could wear...</td>\n",
       "      <td>257.0</td>\n",
       "      <td>5.0</td>\n",
       "    </tr>\n",
       "  </tbody>\n",
       "</table>\n",
       "</div>"
      ],
      "text/plain": [
       "                         Name Review Date  \\\n",
       "0  Beyond Bespoke Alterations  2020-01-18   \n",
       "\n",
       "                                                                                                                                                 Review Text  \\\n",
       "0  I came here last year to get a jumpsuit hemmed and I was beyond impressed by the result! The tailor made the length just perfect, so that I could wear...   \n",
       "\n",
       "   Review Count  Rating  \n",
       "0  257.0         5.0     "
      ]
     },
     "execution_count": 162,
     "metadata": {},
     "output_type": "execute_result"
    }
   ],
   "source": [
    "cursor.execute(\"\"\"\n",
    "SELECT b.name AS 'Name', \n",
    "       r.review_date AS 'Review Date', \n",
    "       r.review_text AS 'Review Text', \n",
    "       b.review_count AS 'Review Count', \n",
    "       b.rating AS Rating\n",
    "FROM businesses.businesses b\n",
    "JOIN businesses.reviews r\n",
    "ON b.business_id = r.business_id\n",
    "ORDER BY b.rating DESC,\n",
    "         b.review_count DESC,\n",
    "         r.review_date DESC\n",
    "LIMIT 1\n",
    "\"\"\")\n",
    "my_data = pd.DataFrame(cursor.fetchall())\n",
    "my_data.columns = [x[0] for x in cursor.description]\n",
    "pd.set_option('display.max_colwidth', -1)\n",
    "my_data"
   ]
  },
  {
   "cell_type": "markdown",
   "metadata": {},
   "source": [
    "Find the lowest rated business and return text of the most recent review. If multiple business have the same rating, select the restaurant with the least reviews."
   ]
  },
  {
   "cell_type": "code",
   "execution_count": 161,
   "metadata": {},
   "outputs": [
    {
     "data": {
      "text/html": [
       "<div>\n",
       "<style scoped>\n",
       "    .dataframe tbody tr th:only-of-type {\n",
       "        vertical-align: middle;\n",
       "    }\n",
       "\n",
       "    .dataframe tbody tr th {\n",
       "        vertical-align: top;\n",
       "    }\n",
       "\n",
       "    .dataframe thead th {\n",
       "        text-align: right;\n",
       "    }\n",
       "</style>\n",
       "<table border=\"1\" class=\"dataframe\">\n",
       "  <thead>\n",
       "    <tr style=\"text-align: right;\">\n",
       "      <th></th>\n",
       "      <th>Name</th>\n",
       "      <th>Review Date</th>\n",
       "      <th>Review Text</th>\n",
       "      <th>Review Count</th>\n",
       "      <th>Rating</th>\n",
       "    </tr>\n",
       "  </thead>\n",
       "  <tbody>\n",
       "    <tr>\n",
       "      <td>0</td>\n",
       "      <td>Dynasty Sports</td>\n",
       "      <td>2018-10-05</td>\n",
       "      <td>LAZY staff. RUDE management. \\nWent in Fri after a long wk of work to buy sneakers and an outfit. I walked around 20 mins nobody asked if I needed help. I...</td>\n",
       "      <td>1.0</td>\n",
       "      <td>1.0</td>\n",
       "    </tr>\n",
       "  </tbody>\n",
       "</table>\n",
       "</div>"
      ],
      "text/plain": [
       "             Name Review Date  \\\n",
       "0  Dynasty Sports  2018-10-05   \n",
       "\n",
       "                                                                                                                                                     Review Text  \\\n",
       "0  LAZY staff. RUDE management. \\nWent in Fri after a long wk of work to buy sneakers and an outfit. I walked around 20 mins nobody asked if I needed help. I...   \n",
       "\n",
       "   Review Count  Rating  \n",
       "0  1.0           1.0     "
      ]
     },
     "execution_count": 161,
     "metadata": {},
     "output_type": "execute_result"
    }
   ],
   "source": [
    "cursor.execute(\"\"\"\n",
    "SELECT b.name AS 'Name', \n",
    "       r.review_date AS 'Review Date', \n",
    "       r.review_text AS 'Review Text', \n",
    "       b.review_count AS 'Review Count', \n",
    "       b.rating AS 'Rating'\n",
    "FROM businesses.businesses b\n",
    "JOIN businesses.reviews r\n",
    "ON b.business_id = r.business_id\n",
    "ORDER BY b.rating ASC,\n",
    "         b.review_count ASC,\n",
    "         r.review_date DESC\n",
    "LIMIT 1\n",
    ";\n",
    "\"\"\")\n",
    "my_data = pd.DataFrame(cursor.fetchall())\n",
    "my_data.columns = [x[0] for x in cursor.description]\n",
    "pd.set_option('display.max_colwidth', -1)\n",
    "my_data"
   ]
  },
  {
   "cell_type": "markdown",
   "metadata": {},
   "source": [
    "# Extra Reference help"
   ]
  },
  {
   "cell_type": "markdown",
   "metadata": {},
   "source": [
    "###  Pagination\n",
    "\n",
    "Returning to the Yelp API, the [documentation](https://www.yelp.com/developers/documentation/v3/business_search) also provides us details regarding the API limits. These often include details about the number of requests a user is allowed to make within a specified time limit and the maximum number of results to be returned. In this case, we are told that any request has a maximum of 50 results per request and defaults to 20. Furthermore, any search will be limited to a total of 1000 results. To retrieve all 1000 of these results, we would have to page through the results piece by piece, retriving 50 at a time. Processes such as these are often refered to as pagination.\n",
    "\n",
    "Now that you have an initial response, you can examine the contents of the json container. For example, you might start with ```response.json().keys()```. Here, you'll see a key for `'total'`, which tells you the full number of matching results given your query parameters. Write a loop (or ideally a function) which then makes successive API calls using the offset parameter to retrieve all of the results (or 5000 for a particularly large result set) for the original query. As you do this, be mindful of how you store the data. \n",
    "\n",
    "**Note: be mindful of the API rate limits. You can only make 5000 requests per day, and APIs can make requests too fast. Start prototyping small before running a loop that could be faulty. You can also use time.sleep(n) to add delays. For more details see https://www.yelp.com/developers/documentation/v3/rate_limiting.**"
   ]
  },
  {
   "cell_type": "markdown",
   "metadata": {},
   "source": [
    "***Below is sample code that you can use to help you deal with the pagination parameter and bring all of the functions together.***\n",
    "\n",
    "\n",
    "***Also, something might cause your code to break while it is running. You don't want to constantly repull the same data when this happens, so you should insert the data into the database as you call and parse it, not after you have all of the data***\n"
   ]
  },
  {
   "cell_type": "code",
   "execution_count": null,
   "metadata": {},
   "outputs": [],
   "source": [
    "def yelp_call(url_params, api_key):\n",
    "    # your code to make the yelp call\n",
    "    return data"
   ]
  },
  {
   "cell_type": "code",
   "execution_count": null,
   "metadata": {},
   "outputs": [],
   "source": [
    "def parse_results(results):\n",
    "    # your code to parse the result to make them easier to insert into the DB\n",
    "    return parsed_results"
   ]
  },
  {
   "cell_type": "code",
   "execution_count": null,
   "metadata": {},
   "outputs": [],
   "source": [
    "def db_insert(cnx, cursor, parsed results):\n",
    "    # your code to insert and commit the results\n",
    "    # I would create the connection and cursor outside of this function and then pass it through"
   ]
  },
  {
   "cell_type": "code",
   "execution_count": null,
   "metadata": {},
   "outputs": [],
   "source": [
    "# create a variable  to keep track of which result you are in. \n",
    "cur = 0\n",
    "\n",
    "#set up a while loop to go through and grab the result \n",
    "while cur < num and cur < 1000:\n",
    "    #set the offset parameter to be where you currently are in the results \n",
    "    url_params['offset'] = cur\n",
    "    #make your API call with the new offset number\n",
    "    results = yelp_call(url_params, api_key)\n",
    "    \n",
    "    #after you get your results you can now use your function to parse those results\n",
    "    parsed_results = parse_results(results)\n",
    "    \n",
    "    # use your function to insert your parsed results into the db\n",
    "    db_insert(parsed_results)\n",
    "    #increment the counter by 50 to move on to the next results\n",
    "    cur += 50"
   ]
  },
  {
   "cell_type": "code",
   "execution_count": null,
   "metadata": {},
   "outputs": [],
   "source": []
  }
 ],
 "metadata": {
  "kernelspec": {
   "display_name": "Python 3",
   "language": "python",
   "name": "python3"
  },
  "language_info": {
   "codemirror_mode": {
    "name": "ipython",
    "version": 3
   },
   "file_extension": ".py",
   "mimetype": "text/x-python",
   "name": "python",
   "nbconvert_exporter": "python",
   "pygments_lexer": "ipython3",
   "version": "3.6.9"
  },
  "toc": {
   "base_numbering": 1,
   "nav_menu": {},
   "number_sections": false,
   "sideBar": true,
   "skip_h1_title": false,
   "title_cell": "Table of Contents",
   "title_sidebar": "Contents",
   "toc_cell": false,
   "toc_position": {},
   "toc_section_display": true,
   "toc_window_display": false
  }
 },
 "nbformat": 4,
 "nbformat_minor": 2
}
